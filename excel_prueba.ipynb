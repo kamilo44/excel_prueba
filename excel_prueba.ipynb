{
 "cells": [
  {
   "cell_type": "code",
   "execution_count": null,
   "id": "d0759af8-bd2f-43b0-9d88-f23d34092d02",
   "metadata": {},
   "outputs": [],
   "source": [
    "import pandas as pd\n",
    "\n",
    "class Cuentas(object):\n",
    "    def __init__(self, url):\n",
    "        #self.url = url\n",
    "        self.data = pd.read_excel(url)\n",
    "        self.val = 0\n",
    "        self.limit = len(self.data)-1\n",
    "        \n",
    "    \n",
    "    # Hace esta clase iterable\n",
    "    def __iter__(self):\n",
    "        return self\n",
    "    \n",
    "    # Hace esta clase un iterador\n",
    "    def __next__(self):\n",
    "        if self.val > self.limit:\n",
    "            raise StopIteration\n",
    "        else:\n",
    "            return_val = self.data.iloc[[self.val]]\n",
    "            self.val += 1\n",
    "            return return_val"
   ]
  },
  {
   "cell_type": "code",
   "execution_count": null,
   "id": "fbf07bb9-7627-4e41-8465-480fc0717123",
   "metadata": {},
   "outputs": [],
   "source": [
    "url = r'https://github.com/kamilo44/excel_prueba/blob/master/datos.xlsx?raw=true'\n",
    "\n",
    "cuentas = Cuentas(url)"
   ]
  },
  {
   "cell_type": "code",
   "execution_count": null,
   "id": "d46a227e-a974-44f1-a0ae-3cb41ef7e8c9",
   "metadata": {},
   "outputs": [],
   "source": [
    "for i in cuentas:\n",
    "    print(i)"
   ]
  }
 ],
 "metadata": {
  "kernelspec": {
   "display_name": "Python 3 (ipykernel)",
   "language": "python",
   "name": "python3"
  },
  "language_info": {
   "codemirror_mode": {
    "name": "ipython",
    "version": 3
   },
   "file_extension": ".py",
   "mimetype": "text/x-python",
   "name": "python",
   "nbconvert_exporter": "python",
   "pygments_lexer": "ipython3",
   "version": "3.9.12"
  }
 },
 "nbformat": 4,
 "nbformat_minor": 5
}
