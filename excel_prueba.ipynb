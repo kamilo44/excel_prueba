{
 "cells": [
  {
   "cell_type": "code",
   "execution_count": 4,
   "id": "d0759af8-bd2f-43b0-9d88-f23d34092d02",
   "metadata": {},
   "outputs": [],
   "source": [
    "import pandas as pd\n",
    "\n",
    "df_excel = pd.read_excel('https://github.com/kamilo44/excel_prueba/blob/master/datos.xlsx?raw=true')"
   ]
  },
  {
   "cell_type": "code",
   "execution_count": 5,
   "id": "9b6d6965-cc4c-4081-99a7-62dff46753df",
   "metadata": {},
   "outputs": [
    {
     "data": {
      "text/html": [
       "<div>\n",
       "<style scoped>\n",
       "    .dataframe tbody tr th:only-of-type {\n",
       "        vertical-align: middle;\n",
       "    }\n",
       "\n",
       "    .dataframe tbody tr th {\n",
       "        vertical-align: top;\n",
       "    }\n",
       "\n",
       "    .dataframe thead th {\n",
       "        text-align: right;\n",
       "    }\n",
       "</style>\n",
       "<table border=\"1\" class=\"dataframe\">\n",
       "  <thead>\n",
       "    <tr style=\"text-align: right;\">\n",
       "      <th></th>\n",
       "      <th>numero_de_cuenta</th>\n",
       "      <th>nombre_del_cliente</th>\n",
       "      <th>saldo_actual</th>\n",
       "      <th>fecha_ultima_transaccion</th>\n",
       "    </tr>\n",
       "  </thead>\n",
       "  <tbody>\n",
       "    <tr>\n",
       "      <th>0</th>\n",
       "      <td>8661881</td>\n",
       "      <td>William Efrain Herrera William</td>\n",
       "      <td>5191000</td>\n",
       "      <td>43881</td>\n",
       "    </tr>\n",
       "    <tr>\n",
       "      <th>1</th>\n",
       "      <td>1653390</td>\n",
       "      <td>Jose  Fausto Jose</td>\n",
       "      <td>8511203</td>\n",
       "      <td>44523</td>\n",
       "    </tr>\n",
       "    <tr>\n",
       "      <th>2</th>\n",
       "      <td>1019154</td>\n",
       "      <td>Elena Amparo Peregrino Elena</td>\n",
       "      <td>13634469</td>\n",
       "      <td>43411</td>\n",
       "    </tr>\n",
       "    <tr>\n",
       "      <th>3</th>\n",
       "      <td>2074929</td>\n",
       "      <td>Maria Amparo Aragon Maria</td>\n",
       "      <td>7766805</td>\n",
       "      <td>44344</td>\n",
       "    </tr>\n",
       "    <tr>\n",
       "      <th>4</th>\n",
       "      <td>8166429</td>\n",
       "      <td>Guefry Leider Mendez Guefry</td>\n",
       "      <td>4320366</td>\n",
       "      <td>44718</td>\n",
       "    </tr>\n",
       "  </tbody>\n",
       "</table>\n",
       "</div>"
      ],
      "text/plain": [
       "   numero_de_cuenta              nombre_del_cliente  saldo_actual  \\\n",
       "0           8661881  William Efrain Herrera William       5191000   \n",
       "1           1653390               Jose  Fausto Jose       8511203   \n",
       "2           1019154    Elena Amparo Peregrino Elena      13634469   \n",
       "3           2074929       Maria Amparo Aragon Maria       7766805   \n",
       "4           8166429     Guefry Leider Mendez Guefry       4320366   \n",
       "\n",
       "   fecha_ultima_transaccion  \n",
       "0                     43881  \n",
       "1                     44523  \n",
       "2                     43411  \n",
       "3                     44344  \n",
       "4                     44718  "
      ]
     },
     "execution_count": 5,
     "metadata": {},
     "output_type": "execute_result"
    }
   ],
   "source": [
    "df_excel.head()"
   ]
  }
 ],
 "metadata": {
  "kernelspec": {
   "display_name": "Python 3 (ipykernel)",
   "language": "python",
   "name": "python3"
  },
  "language_info": {
   "codemirror_mode": {
    "name": "ipython",
    "version": 3
   },
   "file_extension": ".py",
   "mimetype": "text/x-python",
   "name": "python",
   "nbconvert_exporter": "python",
   "pygments_lexer": "ipython3",
   "version": "3.9.12"
  }
 },
 "nbformat": 4,
 "nbformat_minor": 5
}
